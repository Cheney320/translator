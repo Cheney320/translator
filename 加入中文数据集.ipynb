{
 "cells": [
  {
   "cell_type": "code",
   "execution_count": 1,
   "metadata": {},
   "outputs": [],
   "source": [
    "import pandas as pd"
   ]
  },
  {
   "cell_type": "code",
   "execution_count": 2,
   "metadata": {},
   "outputs": [
    {
     "data": {
      "text/html": [
       "<div>\n",
       "<style scoped>\n",
       "    .dataframe tbody tr th:only-of-type {\n",
       "        vertical-align: middle;\n",
       "    }\n",
       "\n",
       "    .dataframe tbody tr th {\n",
       "        vertical-align: top;\n",
       "    }\n",
       "\n",
       "    .dataframe thead th {\n",
       "        text-align: right;\n",
       "    }\n",
       "</style>\n",
       "<table border=\"1\" class=\"dataframe\">\n",
       "  <thead>\n",
       "    <tr style=\"text-align: right;\">\n",
       "      <th></th>\n",
       "      <th>Unnamed: 0</th>\n",
       "      <th>title</th>\n",
       "      <th>content</th>\n",
       "      <th>label</th>\n",
       "    </tr>\n",
       "  </thead>\n",
       "  <tbody>\n",
       "    <tr>\n",
       "      <th>0</th>\n",
       "      <td>0</td>\n",
       "      <td>憋气大会取消了？WE官宣LPL转会窗第一单 辅助Ben离队</td>\n",
       "      <td>腾讯体育讯 北京时间11月20日，WE战队公布了2018年英雄联盟职业选手转会窗口期，LPL...</td>\n",
       "      <td>体育</td>\n",
       "    </tr>\n",
       "    <tr>\n",
       "      <th>1</th>\n",
       "      <td>1</td>\n",
       "      <td>NBA场均得分近34年最高 欧文：如今联盟没有防守</td>\n",
       "      <td>腾讯体育11月20日讯   NBA新赛季打了一个月，高比分的比赛屡见不鲜。欧文在采访中谈到了...</td>\n",
       "      <td>体育</td>\n",
       "    </tr>\n",
       "    <tr>\n",
       "      <th>2</th>\n",
       "      <td>2</td>\n",
       "      <td>日本家长为何痴迷让孩子吃苦？“残酷”体育课赋予孩子生存的力量</td>\n",
       "      <td>“我们教会他们，不管在怎样的环境下，只要努力就能成功。不是说，非要把孩子们培养成运动员。”B...</td>\n",
       "      <td>体育</td>\n",
       "    </tr>\n",
       "    <tr>\n",
       "      <th>3</th>\n",
       "      <td>3</td>\n",
       "      <td>48岁前国脚参加老甲A遭暴力飞铲  胡志军：相信不是故意的</td>\n",
       "      <td>腾讯体育11月20日讯 正在湖北恩施进行的老甲A赛事再次传出争议事件，19下午举行的半决赛广...</td>\n",
       "      <td>体育</td>\n",
       "    </tr>\n",
       "    <tr>\n",
       "      <th>4</th>\n",
       "      <td>4</td>\n",
       "      <td>利拉德否认曾与老板争吵 交易流言纯属瞎扯</td>\n",
       "      <td>腾讯体育11月20日讯  开拓者队当家球星达米安-利拉德今天在接受采访时否认自己曾与球队已故...</td>\n",
       "      <td>体育</td>\n",
       "    </tr>\n",
       "  </tbody>\n",
       "</table>\n",
       "</div>"
      ],
      "text/plain": [
       "   Unnamed: 0                           title  \\\n",
       "0           0   憋气大会取消了？WE官宣LPL转会窗第一单 辅助Ben离队   \n",
       "1           1       NBA场均得分近34年最高 欧文：如今联盟没有防守   \n",
       "2           2  日本家长为何痴迷让孩子吃苦？“残酷”体育课赋予孩子生存的力量   \n",
       "3           3   48岁前国脚参加老甲A遭暴力飞铲  胡志军：相信不是故意的   \n",
       "4           4            利拉德否认曾与老板争吵 交易流言纯属瞎扯   \n",
       "\n",
       "                                             content label  \n",
       "0  腾讯体育讯 北京时间11月20日，WE战队公布了2018年英雄联盟职业选手转会窗口期，LPL...    体育  \n",
       "1  腾讯体育11月20日讯   NBA新赛季打了一个月，高比分的比赛屡见不鲜。欧文在采访中谈到了...    体育  \n",
       "2  “我们教会他们，不管在怎样的环境下，只要努力就能成功。不是说，非要把孩子们培养成运动员。”B...    体育  \n",
       "3  腾讯体育11月20日讯 正在湖北恩施进行的老甲A赛事再次传出争议事件，19下午举行的半决赛广...    体育  \n",
       "4  腾讯体育11月20日讯  开拓者队当家球星达米安-利拉德今天在接受采访时否认自己曾与球队已故...    体育  "
      ]
     },
     "execution_count": 2,
     "metadata": {},
     "output_type": "execute_result"
    }
   ],
   "source": [
    "news = pd.read_excel('./data/all_news.xlsx')\n",
    "news.head()"
   ]
  },
  {
   "cell_type": "code",
   "execution_count": 3,
   "metadata": {},
   "outputs": [
    {
     "data": {
      "text/html": [
       "<div>\n",
       "<style scoped>\n",
       "    .dataframe tbody tr th:only-of-type {\n",
       "        vertical-align: middle;\n",
       "    }\n",
       "\n",
       "    .dataframe tbody tr th {\n",
       "        vertical-align: top;\n",
       "    }\n",
       "\n",
       "    .dataframe thead th {\n",
       "        text-align: right;\n",
       "    }\n",
       "</style>\n",
       "<table border=\"1\" class=\"dataframe\">\n",
       "  <thead>\n",
       "    <tr style=\"text-align: right;\">\n",
       "      <th></th>\n",
       "      <th>title</th>\n",
       "    </tr>\n",
       "  </thead>\n",
       "  <tbody>\n",
       "    <tr>\n",
       "      <th>0</th>\n",
       "      <td>憋气大会取消了？WE官宣LPL转会窗第一单 辅助Ben离队</td>\n",
       "    </tr>\n",
       "    <tr>\n",
       "      <th>1</th>\n",
       "      <td>NBA场均得分近34年最高 欧文：如今联盟没有防守</td>\n",
       "    </tr>\n",
       "    <tr>\n",
       "      <th>2</th>\n",
       "      <td>日本家长为何痴迷让孩子吃苦？“残酷”体育课赋予孩子生存的力量</td>\n",
       "    </tr>\n",
       "    <tr>\n",
       "      <th>3</th>\n",
       "      <td>48岁前国脚参加老甲A遭暴力飞铲  胡志军：相信不是故意的</td>\n",
       "    </tr>\n",
       "    <tr>\n",
       "      <th>4</th>\n",
       "      <td>利拉德否认曾与老板争吵 交易流言纯属瞎扯</td>\n",
       "    </tr>\n",
       "  </tbody>\n",
       "</table>\n",
       "</div>"
      ],
      "text/plain": [
       "                            title\n",
       "0   憋气大会取消了？WE官宣LPL转会窗第一单 辅助Ben离队\n",
       "1       NBA场均得分近34年最高 欧文：如今联盟没有防守\n",
       "2  日本家长为何痴迷让孩子吃苦？“残酷”体育课赋予孩子生存的力量\n",
       "3   48岁前国脚参加老甲A遭暴力飞铲  胡志军：相信不是故意的\n",
       "4            利拉德否认曾与老板争吵 交易流言纯属瞎扯"
      ]
     },
     "execution_count": 3,
     "metadata": {},
     "output_type": "execute_result"
    }
   ],
   "source": [
    "chinese = pd.DataFrame(news['title'][:1500])\n",
    "chinese.head()"
   ]
  },
  {
   "cell_type": "code",
   "execution_count": 4,
   "metadata": {},
   "outputs": [
    {
     "data": {
      "text/html": [
       "<div>\n",
       "<style scoped>\n",
       "    .dataframe tbody tr th:only-of-type {\n",
       "        vertical-align: middle;\n",
       "    }\n",
       "\n",
       "    .dataframe tbody tr th {\n",
       "        vertical-align: top;\n",
       "    }\n",
       "\n",
       "    .dataframe thead th {\n",
       "        text-align: right;\n",
       "    }\n",
       "</style>\n",
       "<table border=\"1\" class=\"dataframe\">\n",
       "  <thead>\n",
       "    <tr style=\"text-align: right;\">\n",
       "      <th></th>\n",
       "      <th>1 december wereld aids dag voorlichting in zuidafrika over bieten taboes en optimisme</th>\n",
       "      <th>nl</th>\n",
       "    </tr>\n",
       "  </thead>\n",
       "  <tbody>\n",
       "    <tr>\n",
       "      <th>0</th>\n",
       "      <td>憋气大会取消了？WE官宣LPL转会窗第一单 辅助Ben离队</td>\n",
       "      <td>ch</td>\n",
       "    </tr>\n",
       "    <tr>\n",
       "      <th>1</th>\n",
       "      <td>NBA场均得分近34年最高 欧文：如今联盟没有防守</td>\n",
       "      <td>ch</td>\n",
       "    </tr>\n",
       "    <tr>\n",
       "      <th>2</th>\n",
       "      <td>日本家长为何痴迷让孩子吃苦？“残酷”体育课赋予孩子生存的力量</td>\n",
       "      <td>ch</td>\n",
       "    </tr>\n",
       "    <tr>\n",
       "      <th>3</th>\n",
       "      <td>48岁前国脚参加老甲A遭暴力飞铲  胡志军：相信不是故意的</td>\n",
       "      <td>ch</td>\n",
       "    </tr>\n",
       "    <tr>\n",
       "      <th>4</th>\n",
       "      <td>利拉德否认曾与老板争吵 交易流言纯属瞎扯</td>\n",
       "      <td>ch</td>\n",
       "    </tr>\n",
       "  </tbody>\n",
       "</table>\n",
       "</div>"
      ],
      "text/plain": [
       "  1 december wereld aids dag voorlichting in zuidafrika over bieten taboes en optimisme  \\\n",
       "0                      憋气大会取消了？WE官宣LPL转会窗第一单 辅助Ben离队                                      \n",
       "1                          NBA场均得分近34年最高 欧文：如今联盟没有防守                                      \n",
       "2                     日本家长为何痴迷让孩子吃苦？“残酷”体育课赋予孩子生存的力量                                      \n",
       "3                      48岁前国脚参加老甲A遭暴力飞铲  胡志军：相信不是故意的                                      \n",
       "4                               利拉德否认曾与老板争吵 交易流言纯属瞎扯                                      \n",
       "\n",
       "   nl  \n",
       "0  ch  \n",
       "1  ch  \n",
       "2  ch  \n",
       "3  ch  \n",
       "4  ch  "
      ]
     },
     "execution_count": 4,
     "metadata": {},
     "output_type": "execute_result"
    }
   ],
   "source": [
    "chinese.rename(columns={'title':'1 december wereld aids dag voorlichting in zuidafrika over bieten taboes en optimisme'}, inplace=True)\n",
    "chinese['nl'] = 'ch'\n",
    "chinese.head()"
   ]
  },
  {
   "cell_type": "code",
   "execution_count": 5,
   "metadata": {},
   "outputs": [
    {
     "data": {
      "text/plain": [
       "es    1562\n",
       "fr    1551\n",
       "it    1539\n",
       "en    1505\n",
       "de    1479\n",
       "nl    1429\n",
       "Name: nl, dtype: int64"
      ]
     },
     "execution_count": 5,
     "metadata": {},
     "output_type": "execute_result"
    }
   ],
   "source": [
    "data = pd.read_csv('./data/data.csv')\n",
    "data['nl'].value_counts()"
   ]
  },
  {
   "cell_type": "code",
   "execution_count": 7,
   "metadata": {},
   "outputs": [],
   "source": [
    "new_data = pd.concat([data, chinese])"
   ]
  },
  {
   "cell_type": "code",
   "execution_count": 8,
   "metadata": {},
   "outputs": [],
   "source": [
    "new_data.to_csv('./data/new_data.csv', encoding='utf-8', index=False)"
   ]
  },
  {
   "cell_type": "code",
   "execution_count": null,
   "metadata": {},
   "outputs": [],
   "source": []
  }
 ],
 "metadata": {
  "kernelspec": {
   "display_name": "Python 3",
   "language": "python",
   "name": "python3"
  },
  "language_info": {
   "codemirror_mode": {
    "name": "ipython",
    "version": 3
   },
   "file_extension": ".py",
   "mimetype": "text/x-python",
   "name": "python",
   "nbconvert_exporter": "python",
   "pygments_lexer": "ipython3",
   "version": "3.6.5"
  }
 },
 "nbformat": 4,
 "nbformat_minor": 2
}
